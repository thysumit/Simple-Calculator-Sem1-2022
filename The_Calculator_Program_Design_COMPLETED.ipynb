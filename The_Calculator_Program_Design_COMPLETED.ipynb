{
  "nbformat": 4,
  "nbformat_minor": 0,
  "metadata": {
    "colab": {
      "name": "The-Calculator-Program-Design-COMPLETED.ipynb",
      "provenance": [],
      "collapsed_sections": [],
      "include_colab_link": true
    },
    "kernelspec": {
      "name": "python3",
      "display_name": "Python 3"
    },
    "language_info": {
      "name": "python"
    }
  },
  "cells": [
    {
      "cell_type": "markdown",
      "metadata": {
        "id": "view-in-github",
        "colab_type": "text"
      },
      "source": [
        "<a href=\"https://colab.research.google.com/github/thysumit/Simple-Calculator-Sem1-2022/blob/main/The_Calculator_Program_Design_COMPLETED.ipynb\" target=\"_parent\"><img src=\"https://colab.research.google.com/assets/colab-badge.svg\" alt=\"Open In Colab\"/></a>"
      ]
    },
    {
      "cell_type": "markdown",
      "source": [
        "#The Calculator\n",
        "This notebook is an exercise in programming to help hone your skills through practice and repetition.\n",
        "\n",
        "## What are *our* Best Practices\n",
        "\n",
        "Here are the best practices we have been applying throughout the course.\n",
        "\n",
        "1. Use a code repository (*GitHub, small frequent commits*)\n",
        "2. Follow style guidelines (*PEP8*)\n",
        "3. Correct broken code immediately (*exception handling, input validation, testing*)\n",
        "4. Use the PyPI instead of doing it yourself (*search and import module*)\n",
        "5. Use the Right Data Types and Structures (*int, float, list, etc. *)\n",
        "6. Write Readable Code (*meaningful names and comments*)\n",
        "7. Create readable documentation (*Docstrings*)\n",
        "8. Use Virtual Environments (*Google VM instance, Binder*)\n",
        "9. Avoid anti-patterns (*be specific imports, exceptions etc. *)\n",
        "10. Follow *Zen of Python* (try *`import this`*)"
      ],
      "metadata": {
        "id": "in2iZP7A1rNP"
      }
    },
    {
      "cell_type": "markdown",
      "source": [
        "## The Challenge - Simple Calculator\n",
        "\n",
        "Write a program to prompt the user to select a mathematical operator and input two numbers. The program will then operate on the two numbers and output the result. The user will be able to continue performing operators on numbers or exit the program. The arithmetic operators include: \n",
        "* addition, \n",
        "* subtraction, \n",
        "* multiplication, and \n",
        "* division. \n",
        "\n",
        "Let's review the *Zen of Python*.  Run the following code cell"
      ],
      "metadata": {
        "id": "6McFoWcj2AUu"
      }
    },
    {
      "cell_type": "code",
      "execution_count": null,
      "metadata": {
        "id": "H_kOZrGM1e38"
      },
      "outputs": [],
      "source": [
        "import this"
      ]
    },
    {
      "cell_type": "markdown",
      "source": [
        "# Step 0 - Create code repository\n",
        "\n",
        "All projects need a project folder. Use the code repository to store the project. Go to GitHub, create a new repository with a meaningful name, like calculator, and add a README. Adding a readme file will initialise the repository. Initialising is *critical* and will make it easy to add files later.\n",
        "\n",
        "This notebook assumes we use Google Colab as the Integrated Development Environment (IDE). For our workflow and easy integration with the IDE, tick the box \"Include a link to Colaboratory\".\n",
        "\n",
        "This notebook will have small and frequent commits (Best Practice #1). You can look at the history of the notebook to view the commits."
      ],
      "metadata": {
        "id": "JqQiweAm3ENv"
      }
    },
    {
      "cell_type": "markdown",
      "source": [
        "# Step 1 - State the problem clearly\n",
        "\n",
        "We are following 5 step methodology:\n",
        "1. State the problem clearly\n",
        "2. Describe the input and output information\n",
        "3. Work the problem by hand\n",
        "4. Develop an algorithm (and convert it to python) \n",
        "5. Test solution with a variety of data\n",
        "\n",
        "\n",
        "## The Approach/Design"
      ],
      "metadata": {
        "id": "Ogxm2XmL3ulZ"
      }
    },
    {
      "cell_type": "markdown",
      "source": [
        "#Step 2 - Describe inputs and outputs"
      ],
      "metadata": {
        "id": "Oy2qLtkI33Wi"
      }
    },
    {
      "cell_type": "markdown",
      "source": [
        "# Step 3 - Work the problem by hand\n",
        "\n",
        "use some test-cases/scenario"
      ],
      "metadata": {
        "id": "V1eEfzun4ErK"
      }
    },
    {
      "cell_type": "markdown",
      "source": [
        "Please select a mathematical operation that you wish to perform from the list:\n",
        "\n",
        "*  Addition\n",
        "*  Substraction \n",
        "*  Division\n",
        "*  Multiplication\n",
        "\n",
        "Please input two numbers: number1 + number2\n",
        "\n",
        "If numbers are not integers or float, input them again please.\n",
        "\n",
        "**If operation = addition**\n",
        "\n",
        "num : num1 + num2 \n",
        "\n",
        "Print \"The result of num1 + num2 is \", num\n",
        "\n",
        "**If operation = subtraction**\n",
        "\n",
        "num :  num1 - num2\n",
        "\n",
        "Print \"The result of num1 - num2 is \", num\n",
        "\n",
        "**If operation = multiplication**\n",
        "\n",
        "num: num1 * num2\n",
        "\n",
        "Print \"The result of num1 * num2 is \", num\n",
        "\n",
        "**If operation = division**\n",
        "\n",
        "num: num1 / num2\n",
        "\n",
        "Print \"The result of num1 / num2 is \", num\n",
        "\n",
        "If wishes to continue: Yes\n",
        "\n",
        "Please select a mathematical operator that you wish to perform from the list:\n",
        "\n",
        "*  Addition\n",
        "*  Substraction \n",
        "*  Division\n",
        "*  Multiplication\n",
        "\n",
        "Else\n",
        "\n",
        "Exit/Quit"
      ],
      "metadata": {
        "id": "KEMGvnRlP9Mv"
      }
    },
    {
      "cell_type": "markdown",
      "source": [
        "# Step 4 - Develop an algorithm (and convert it to python)"
      ],
      "metadata": {
        "id": "J_kOUaGA4Hsa"
      }
    },
    {
      "cell_type": "markdown",
      "source": [
        "# Final Design\n",
        "\n",
        "**Module: Main Program**\n",
        "\n",
        "**Module:**\n",
        "\n",
        "**Module:**\n",
        "\n"
      ],
      "metadata": {
        "id": "S7oj8cWz4Udi"
      }
    },
    {
      "cell_type": "markdown",
      "source": [
        "# Convert to Python\n",
        "\n",
        "Convert the design to Pythin in another notebook"
      ],
      "metadata": {
        "id": "9VFIwWNy4z9j"
      }
    },
    {
      "cell_type": "markdown",
      "source": [
        "# Step 5 - Test solution with a variety of data"
      ],
      "metadata": {
        "id": "QyOxJjqk4m9z"
      }
    },
    {
      "cell_type": "code",
      "source": [
        "number1 = int(input('Enter your first number: '))\n",
        "number2 = int(input('Enter your second number: '))\n",
        "\n",
        "operator = input('''\n",
        "Please type in the math operator you would like to complete:\n",
        "+ for addition\n",
        "- for subtraction\n",
        "* for multiplication\n",
        "/ for division\n",
        "''')\n",
        "\n",
        "if operator == '+':\n",
        "    print('Answer of {} + {} =:'.format(number1, number2),number1 + number2)\n",
        "\n",
        "elif operator == '-':\n",
        "    print('{} - {} = '.format(number1, number2),number1 - number2)\n",
        "\n",
        "elif operator == '*':\n",
        "    print('{} * {} = '.format(number1, number2),number1 * number2)\n",
        "\n",
        "elif operator == '/':\n",
        "    print('{} / {} = '.format(number1, number2),number1 / number2)\n",
        "\n",
        "else:\n",
        "    print('Invalid Operator, please run the program again.')"
      ],
      "metadata": {
        "id": "6d6HhLde5rD1",
        "colab": {
          "base_uri": "https://localhost:8080/"
        },
        "outputId": "ca4cf66b-e80c-4439-dc39-db154890c0da"
      },
      "execution_count": null,
      "outputs": [
        {
          "output_type": "stream",
          "name": "stdout",
          "text": [
            "Enter your first number: 1\n",
            "Enter your second number: 2\n",
            "\n",
            "Please type in the math operator you would like to complete:\n",
            "+ for addition\n",
            "- for subtraction\n",
            "* for multiplication\n",
            "/ for division\n",
            "*\n",
            "1 * 2 =  2\n"
          ]
        }
      ]
    }
  ]
}